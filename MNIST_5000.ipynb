{
 "cells": [
  {
   "cell_type": "code",
   "execution_count": 1,
   "metadata": {},
   "outputs": [
    {
     "name": "stderr",
     "output_type": "stream",
     "text": [
      "Using TensorFlow backend.\n",
      "WARNING (theano.configdefaults): g++ not available, if using conda: `conda install m2w64-toolchain`\n",
      "C:\\Users\\hfuis\\Anaconda3\\lib\\site-packages\\theano\\configdefaults.py:560: UserWarning: DeprecationWarning: there is no c++ compiler.This is deprecated and with Theano 0.11 a c++ compiler will be mandatory\n",
      "  warnings.warn(\"DeprecationWarning: there is no c++ compiler.\"\n",
      "WARNING (theano.configdefaults): g++ not detected ! Theano will be unable to execute optimized C-implementations (for both CPU and GPU) and will default to Python implementations. Performance will be severely degraded. To remove this warning, set Theano flags cxx to an empty string.\n",
      "WARNING (theano.tensor.blas): Using NumPy C-API based implementation for BLAS functions.\n"
     ]
    }
   ],
   "source": [
    "#4章　ディープニューラルネットワーク\n",
    "import tensorflow as tf\n",
    "import keras\n",
    "import numpy as np\n",
    "import theano\n",
    "import theano.tensor as T\n",
    "from sklearn.model_selection import train_test_split\n",
    "from sklearn.utils import shuffle\n",
    "from sklearn.metrics import f1_score\n",
    "from matplotlib import pylab as plt\n",
    "import matplotlib.cm as cm"
   ]
  },
  {
   "cell_type": "code",
   "execution_count": 2,
   "metadata": {},
   "outputs": [
    {
     "name": "stdout",
     "output_type": "stream",
     "text": [
      "WARNING:tensorflow:From <ipython-input-2-ef90a6cb5336>:2: read_data_sets (from tensorflow.contrib.learn.python.learn.datasets.mnist) is deprecated and will be removed in a future version.\n",
      "Instructions for updating:\n",
      "Please use alternatives such as official/mnist/dataset.py from tensorflow/models.\n",
      "WARNING:tensorflow:From C:\\Users\\hfuis\\Anaconda3\\lib\\site-packages\\tensorflow\\contrib\\learn\\python\\learn\\datasets\\mnist.py:260: maybe_download (from tensorflow.contrib.learn.python.learn.datasets.base) is deprecated and will be removed in a future version.\n",
      "Instructions for updating:\n",
      "Please write your own downloading logic.\n",
      "WARNING:tensorflow:From C:\\Users\\hfuis\\Anaconda3\\lib\\site-packages\\tensorflow\\contrib\\learn\\python\\learn\\datasets\\mnist.py:262: extract_images (from tensorflow.contrib.learn.python.learn.datasets.mnist) is deprecated and will be removed in a future version.\n",
      "Instructions for updating:\n",
      "Please use tf.data to implement this functionality.\n",
      "Extracting MNIST_data/train-images-idx3-ubyte.gz\n",
      "WARNING:tensorflow:From C:\\Users\\hfuis\\Anaconda3\\lib\\site-packages\\tensorflow\\contrib\\learn\\python\\learn\\datasets\\mnist.py:267: extract_labels (from tensorflow.contrib.learn.python.learn.datasets.mnist) is deprecated and will be removed in a future version.\n",
      "Instructions for updating:\n",
      "Please use tf.data to implement this functionality.\n",
      "Extracting MNIST_data/train-labels-idx1-ubyte.gz\n",
      "WARNING:tensorflow:From C:\\Users\\hfuis\\Anaconda3\\lib\\site-packages\\tensorflow\\contrib\\learn\\python\\learn\\datasets\\mnist.py:110: dense_to_one_hot (from tensorflow.contrib.learn.python.learn.datasets.mnist) is deprecated and will be removed in a future version.\n",
      "Instructions for updating:\n",
      "Please use tf.one_hot on tensors.\n",
      "Extracting MNIST_data/t10k-images-idx3-ubyte.gz\n",
      "Extracting MNIST_data/t10k-labels-idx1-ubyte.gz\n",
      "WARNING:tensorflow:From C:\\Users\\hfuis\\Anaconda3\\lib\\site-packages\\tensorflow\\contrib\\learn\\python\\learn\\datasets\\mnist.py:290: DataSet.__init__ (from tensorflow.contrib.learn.python.learn.datasets.mnist) is deprecated and will be removed in a future version.\n",
      "Instructions for updating:\n",
      "Please use alternatives such as official/mnist/dataset.py from tensorflow/models.\n"
     ]
    }
   ],
   "source": [
    "from tensorflow.examples.tutorials.mnist import input_data\n",
    "mnist = input_data.read_data_sets(\"MNIST_data/\", one_hot=True)\n",
    "\n",
    "#MNIST：0～9の手書き画像データ\n",
    "#枚数：55,000枚\n",
    "#解像度：28*28(=784)\n",
    "#PC:corei5,RAM 8GB"
   ]
  },
  {
   "cell_type": "code",
   "execution_count": 3,
   "metadata": {},
   "outputs": [
    {
     "name": "stdout",
     "output_type": "stream",
     "text": [
      "(55000, 784)\n",
      "(55000, 10)\n"
     ]
    }
   ],
   "source": [
    "X = mnist.train.images\n",
    "Y = mnist.train.labels\n",
    "print(X.shape)\n",
    "print(Y.shape)"
   ]
  },
  {
   "cell_type": "code",
   "execution_count": 4,
   "metadata": {},
   "outputs": [
    {
     "name": "stderr",
     "output_type": "stream",
     "text": [
      "C:\\Users\\hfuis\\Anaconda3\\lib\\site-packages\\sklearn\\model_selection\\_split.py:2179: FutureWarning: From version 0.21, test_size will always complement train_size unless both are specified.\n",
      "  FutureWarning)\n"
     ]
    }
   ],
   "source": [
    "n = X.shape[0] #画像の枚数\n",
    "N = 5000 #モデルの学習及び評価で使う枚数\n",
    "C = Y.shape[1] #クラス数（分類）\n",
    "indices = np.random.permutation(range(n))[:N] #ランダムにN枚選択。\n",
    "\n",
    "X_N = X[indices]\n",
    "Y_N = Y[indices]\n",
    "\n",
    "#train:test = 8:2でランダムに分割。\n",
    "X_train, X_test, Y_train, Y_test = train_test_split(X_N, Y_N, train_size = 0.8) \n",
    "\n",
    "feature_size = X_N.shape[1] #特徴量の大きさ\n",
    "neuron_size = 200 #隠れ層のニューロンの数"
   ]
  },
  {
   "cell_type": "code",
   "execution_count": 5,
   "metadata": {},
   "outputs": [
    {
     "data": {
      "text/plain": [
       "<matplotlib.image.AxesImage at 0x1ad02f8afd0>"
      ]
     },
     "execution_count": 5,
     "metadata": {},
     "output_type": "execute_result"
    },
    {
     "data": {
      "image/png": "[encoded data removed]",
      "text/plain": [
       "<Figure size 432x288 with 1 Axes>"
      ]
     },
     "metadata": {
      "needs_background": "light"
     },
     "output_type": "display_data"
    }
   ],
   "source": [
    "# ndarrayをgrayscaleの画像として表示\n",
    "plt.imshow(X[0].reshape(28, 28), cmap = cm.Greys_r)"
   ]
  },
  {
   "cell_type": "code",
   "execution_count": 6,
   "metadata": {},
   "outputs": [],
   "source": [
    "def weight_variable(shape):\n",
    "  initial = tf.truncated_normal(shape, stddev=0.1)\n",
    "  return tf.Variable(initial)\n",
    "\n",
    "def bias_variable(shape):\n",
    "  initial = tf.constant(0.1, shape=shape)\n",
    "  return tf.Variable(initial)"
   ]
  },
  {
   "cell_type": "code",
   "execution_count": 7,
   "metadata": {},
   "outputs": [
    {
     "name": "stdout",
     "output_type": "stream",
     "text": [
      "WARNING:tensorflow:From C:\\Users\\hfuis\\Anaconda3\\lib\\site-packages\\tensorflow\\python\\framework\\op_def_library.py:263: colocate_with (from tensorflow.python.framework.ops) is deprecated and will be removed in a future version.\n",
      "Instructions for updating:\n",
      "Colocations handled automatically by placer.\n",
      "WARNING:tensorflow:From C:\\Users\\hfuis\\Anaconda3\\lib\\site-packages\\tensorflow\\python\\ops\\math_ops.py:3066: to_int32 (from tensorflow.python.ops.math_ops) is deprecated and will be removed in a future version.\n",
      "Instructions for updating:\n",
      "Use tf.cast instead.\n"
     ]
    }
   ],
   "source": [
    "#ニューラルネットワーク下準備(3層)\n",
    "x = tf.placeholder(tf.float32, shape = [None, feature_size]) #入力データ\n",
    "t = tf.placeholder(tf.float32, shape = [None, C]) #正解の出力(教師)\n",
    "\n",
    "#入力層-隠れ層\n",
    "#入力は2次元(重みWは特徴量×ニューロン数)、bはバイアス(ニューロン数×1)。\n",
    "#truncated_normal:切断正規分布(defaultだとmean=0,std=1)\n",
    "W = weight_variable([feature_size, neuron_size])\n",
    "b = bias_variable([neuron_size])\n",
    "h = tf.nn.relu(tf.matmul(x, W) + b)            #モデルの出力\n",
    "\n",
    "#隠れ層-出力層\n",
    "#入力は2次元(重みVはニューロン数×1)、bはバイアス(scalar)。\n",
    "#truncated_normal:切断正規分布(defaultだとmean=0,std=1)\n",
    "V = weight_variable([neuron_size, C])\n",
    "c = bias_variable([C])\n",
    "y = tf.nn.softmax(tf.matmul(h, V) + c)            #モデルの出力\n",
    "\n",
    "#交差エントロピー誤差関数(目的関数)\n",
    "#最小化させることで予想を行う。\n",
    "cross_entropy = tf.reduce_mean(-tf.reduce_sum(t*tf.log(y), reduction_indices = [1]))\n",
    "\n",
    "#目的関数の偏微分と勾配降下法\n",
    "#最小化させることで予想を行う。\n",
    "train_step = tf.train.GradientDescentOptimizer(0.1).minimize(cross_entropy) \n",
    "#0.1は学習率\n",
    "\n",
    "#modelの予測yと教師tが一致しているか(bool値)\n",
    "#argmax:一番高い確率を返す。\n",
    "correct_prediction = tf.equal(tf.argmax(y, axis = 1), tf.argmax(t, axis = 1))\n"
   ]
  },
  {
   "cell_type": "code",
   "execution_count": 8,
   "metadata": {},
   "outputs": [
    {
     "name": "stdout",
     "output_type": "stream",
     "text": [
      "epoch: 0\n",
      "epoch: 1000\n",
      "epoch: 2000\n",
      "epoch: 3000\n",
      "epoch: 4000\n",
      "epoch: 5000\n",
      "epoch: 6000\n",
      "epoch: 7000\n",
      "epoch: 8000\n",
      "epoch: 9000\n",
      "Wall time: 9min 36s\n"
     ]
    }
   ],
   "source": [
    "%%time\n",
    "#モデルの学習\n",
    "#データの学習実行(勾配降下法)\n",
    "\n",
    "#変数(tf.Variable)の初期化\n",
    "init = tf.global_variables_initializer()\n",
    "#セッション(計算グラフ(学習)の実行環境)\n",
    "sess = tf.Session()\n",
    "#変数初期化の実行\n",
    "sess.run(init)\n",
    "\n",
    "epochs = 10000 #エポック数\n",
    "for epoch in range(epochs): #gradで足し合わせする回数\n",
    "    sess.run(train_step, feed_dict = {\n",
    "        x: X_train,\n",
    "        t: Y_train\n",
    "    })\n",
    "    if epoch % 1000 == 0:\n",
    "        print(\"epoch:\", epoch)"
   ]
  },
  {
   "cell_type": "code",
   "execution_count": 9,
   "metadata": {},
   "outputs": [
    {
     "name": "stdout",
     "output_type": "stream",
     "text": [
      "accuracy:  0.941\n"
     ]
    }
   ],
   "source": [
    "#モデルの評価\n",
    "\n",
    "accuracy = correct_prediction.eval(session = sess, feed_dict = {\n",
    "    x: X_test,\n",
    "    t: Y_test\n",
    "})\n",
    "\n",
    "print(\"accuracy: \", accuracy.mean())"
   ]
  },
  {
   "cell_type": "code",
   "execution_count": 10,
   "metadata": {},
   "outputs": [
    {
     "name": "stdout",
     "output_type": "stream",
     "text": [
      "output probability:\n",
      "[[3.27294970e-07 1.87010745e-08 4.99438283e-06 5.41065162e-07\n",
      "  3.28583360e-06 1.20494351e-05 9.99975681e-01 4.60149193e-12\n",
      "  3.11481790e-06 1.68868447e-10]\n",
      " [2.45236276e-09 2.82531524e-15 1.47525984e-11 2.81772117e-08\n",
      "  9.68345955e-13 1.00000000e+00 1.21417186e-13 4.24033281e-10\n",
      "  4.79432138e-08 1.22185530e-12]\n",
      " [8.13125456e-15 9.99958634e-01 2.03915929e-09 2.10437302e-05\n",
      "  5.80466841e-10 1.15079359e-08 3.18444542e-11 4.93193767e-12\n",
      "  1.98733633e-05 3.61472587e-07]\n",
      " [4.51815418e-10 1.25430312e-15 1.22995357e-15 1.92337856e-12\n",
      "  9.99998569e-01 1.42781346e-06 3.84775589e-09 1.36326603e-08\n",
      "  7.23647461e-11 5.29875130e-08]\n",
      " [1.36629744e-11 1.94662845e-11 5.38978639e-09 2.78628636e-06\n",
      "  5.42867274e-05 1.52970870e-06 3.12945503e-11 4.55068493e-06\n",
      "  5.02425537e-05 9.99886632e-01]\n",
      " [4.92150487e-11 1.44010548e-09 9.99999642e-01 6.46942837e-08\n",
      "  1.14536398e-08 2.94170348e-11 1.32139411e-09 2.57903057e-16\n",
      "  2.62330644e-07 5.58981098e-14]\n",
      " [2.78068999e-08 7.25763589e-02 5.91896415e-01 7.40810239e-04\n",
      "  3.89601631e-08 2.14972401e-10 1.54257691e-06 9.85939987e-04\n",
      "  2.24025786e-01 1.09773055e-01]\n",
      " [4.22875424e-09 6.20686135e-15 9.99998450e-01 8.53607629e-10\n",
      "  7.87938508e-14 3.63685637e-10 2.15143958e-10 1.59099808e-15\n",
      "  1.49712207e-06 2.39740831e-11]\n",
      " [1.81736016e-06 1.69413588e-15 4.25287041e-08 2.28514221e-11\n",
      "  4.21133809e-05 1.22801203e-09 1.67576786e-09 7.05779439e-06\n",
      "  9.32706280e-06 9.99939680e-01]\n",
      " [1.00000000e+00 4.35803811e-17 8.08118242e-12 5.17757781e-10\n",
      "  6.68524142e-15 8.96055496e-09 1.41839028e-13 4.75843809e-11\n",
      "  4.50004969e-13 3.37666332e-12]\n",
      " [5.63962266e-10 2.76892642e-05 7.44849615e-07 5.24897478e-05\n",
      "  1.29032633e-04 1.65972153e-06 4.26693836e-09 3.14872735e-03\n",
      "  2.29321768e-06 9.96637344e-01]\n",
      " [5.72943748e-07 3.55938050e-06 9.84171808e-01 1.27395047e-04\n",
      "  1.11879277e-10 3.23669383e-07 1.20784405e-08 9.63767058e-17\n",
      "  1.56963486e-02 2.96598853e-14]\n",
      " [1.14132537e-09 9.99904871e-01 2.06142176e-05 1.58702733e-06\n",
      "  4.77517347e-07 1.12229054e-06 3.38004770e-06 1.54426266e-06\n",
      "  6.62734601e-05 2.47052327e-07]\n",
      " [4.04914158e-11 9.99935627e-01 1.35390644e-06 4.97341498e-05\n",
      "  6.27198062e-08 1.03501996e-07 1.13287484e-07 1.64369780e-08\n",
      "  1.27798285e-05 2.45935070e-07]\n",
      " [9.99968290e-01 4.85983459e-14 4.47515219e-10 8.32653280e-10\n",
      "  1.82522535e-13 2.39909750e-05 1.21467148e-12 2.06000245e-10\n",
      "  3.98356761e-08 7.70025690e-06]]\n"
     ]
    }
   ],
   "source": [
    "#入力（X)を食わせた時の出力\n",
    "prob = y.eval(session = sess, feed_dict = {\n",
    "    x: X_test\n",
    "})\n",
    "\n",
    "print(\"output probability:\")\n",
    "print(prob[0:15])"
   ]
  },
  {
   "cell_type": "code",
   "execution_count": null,
   "metadata": {},
   "outputs": [],
   "source": []
  }
 ],
 "metadata": {
  "kernelspec": {
   "display_name": "Python 3",
   "language": "python",
   "name": "python3"
  },
  "language_info": {
   "codemirror_mode": {
    "name": "ipython",
    "version": 3
   },
   "file_extension": ".py",
   "mimetype": "text/x-python",
   "name": "python",
   "nbconvert_exporter": "python",
   "pygments_lexer": "ipython3",
   "version": "3.7.1"
  }
 },
 "nbformat": 4,
 "nbformat_minor": 2
}
