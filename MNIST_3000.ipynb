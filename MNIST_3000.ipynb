{
 "cells": [
  {
   "cell_type": "code",
   "execution_count": 1,
   "metadata": {},
   "outputs": [
    {
     "name": "stderr",
     "output_type": "stream",
     "text": [
      "Using TensorFlow backend.\n",
      "WARNING (theano.configdefaults): g++ not available, if using conda: `conda install m2w64-toolchain`\n",
      "C:\\Users\\hfuis\\Anaconda3\\lib\\site-packages\\theano\\configdefaults.py:560: UserWarning: DeprecationWarning: there is no c++ compiler.This is deprecated and with Theano 0.11 a c++ compiler will be mandatory\n",
      "  warnings.warn(\"DeprecationWarning: there is no c++ compiler.\"\n",
      "WARNING (theano.configdefaults): g++ not detected ! Theano will be unable to execute optimized C-implementations (for both CPU and GPU) and will default to Python implementations. Performance will be severely degraded. To remove this warning, set Theano flags cxx to an empty string.\n",
      "WARNING (theano.tensor.blas): Using NumPy C-API based implementation for BLAS functions.\n"
     ]
    }
   ],
   "source": [
    "#4章　ディープニューラルネットワーク\n",
    "import tensorflow as tf\n",
    "import keras\n",
    "import numpy as np\n",
    "import theano\n",
    "import theano.tensor as T\n",
    "from sklearn.model_selection import train_test_split\n",
    "from sklearn.utils import shuffle\n",
    "from sklearn.metrics import f1_score\n",
    "from matplotlib import pylab as plt\n",
    "import matplotlib.cm as cm"
   ]
  },
  {
   "cell_type": "code",
   "execution_count": 2,
   "metadata": {},
   "outputs": [
    {
     "name": "stdout",
     "output_type": "stream",
     "text": [
      "WARNING:tensorflow:From <ipython-input-2-ef90a6cb5336>:2: read_data_sets (from tensorflow.contrib.learn.python.learn.datasets.mnist) is deprecated and will be removed in a future version.\n",
      "Instructions for updating:\n",
      "Please use alternatives such as official/mnist/dataset.py from tensorflow/models.\n",
      "WARNING:tensorflow:From C:\\Users\\hfuis\\Anaconda3\\lib\\site-packages\\tensorflow\\contrib\\learn\\python\\learn\\datasets\\mnist.py:260: maybe_download (from tensorflow.contrib.learn.python.learn.datasets.base) is deprecated and will be removed in a future version.\n",
      "Instructions for updating:\n",
      "Please write your own downloading logic.\n",
      "WARNING:tensorflow:From C:\\Users\\hfuis\\Anaconda3\\lib\\site-packages\\tensorflow\\contrib\\learn\\python\\learn\\datasets\\mnist.py:262: extract_images (from tensorflow.contrib.learn.python.learn.datasets.mnist) is deprecated and will be removed in a future version.\n",
      "Instructions for updating:\n",
      "Please use tf.data to implement this functionality.\n",
      "Extracting MNIST_data/train-images-idx3-ubyte.gz\n",
      "WARNING:tensorflow:From C:\\Users\\hfuis\\Anaconda3\\lib\\site-packages\\tensorflow\\contrib\\learn\\python\\learn\\datasets\\mnist.py:267: extract_labels (from tensorflow.contrib.learn.python.learn.datasets.mnist) is deprecated and will be removed in a future version.\n",
      "Instructions for updating:\n",
      "Please use tf.data to implement this functionality.\n",
      "Extracting MNIST_data/train-labels-idx1-ubyte.gz\n",
      "WARNING:tensorflow:From C:\\Users\\hfuis\\Anaconda3\\lib\\site-packages\\tensorflow\\contrib\\learn\\python\\learn\\datasets\\mnist.py:110: dense_to_one_hot (from tensorflow.contrib.learn.python.learn.datasets.mnist) is deprecated and will be removed in a future version.\n",
      "Instructions for updating:\n",
      "Please use tf.one_hot on tensors.\n",
      "Extracting MNIST_data/t10k-images-idx3-ubyte.gz\n",
      "Extracting MNIST_data/t10k-labels-idx1-ubyte.gz\n",
      "WARNING:tensorflow:From C:\\Users\\hfuis\\Anaconda3\\lib\\site-packages\\tensorflow\\contrib\\learn\\python\\learn\\datasets\\mnist.py:290: DataSet.__init__ (from tensorflow.contrib.learn.python.learn.datasets.mnist) is deprecated and will be removed in a future version.\n",
      "Instructions for updating:\n",
      "Please use alternatives such as official/mnist/dataset.py from tensorflow/models.\n"
     ]
    }
   ],
   "source": [
    "from tensorflow.examples.tutorials.mnist import input_data\n",
    "mnist = input_data.read_data_sets(\"MNIST_data/\", one_hot=True)\n",
    "\n",
    "#MNIST：0～9の手書き画像データ\n",
    "#枚数：55,000枚\n",
    "#解像度：28*28(=784)\n",
    "#PC:corei5,RAM 8GB"
   ]
  },
  {
   "cell_type": "code",
   "execution_count": 3,
   "metadata": {},
   "outputs": [
    {
     "name": "stdout",
     "output_type": "stream",
     "text": [
      "(55000, 784)\n",
      "(55000, 10)\n"
     ]
    }
   ],
   "source": [
    "X = mnist.train.images\n",
    "Y = mnist.train.labels\n",
    "print(X.shape)\n",
    "print(Y.shape)"
   ]
  },
  {
   "cell_type": "code",
   "execution_count": 4,
   "metadata": {},
   "outputs": [
    {
     "name": "stderr",
     "output_type": "stream",
     "text": [
      "C:\\Users\\hfuis\\Anaconda3\\lib\\site-packages\\sklearn\\model_selection\\_split.py:2179: FutureWarning: From version 0.21, test_size will always complement train_size unless both are specified.\n",
      "  FutureWarning)\n"
     ]
    }
   ],
   "source": [
    "n = X.shape[0] #画像の枚数\n",
    "N = 3000 #モデルの学習及び評価で使う枚数\n",
    "C = Y.shape[1] #クラス数（分類）\n",
    "indices = np.random.permutation(range(n))[:N] #ランダムにN枚選択。\n",
    "\n",
    "X_N = X[indices]\n",
    "Y_N = Y[indices]\n",
    "\n",
    "#train:test = 8:2でランダムに分割。\n",
    "X_train, X_test, Y_train, Y_test = train_test_split(X_N, Y_N, train_size = 0.8) \n",
    "\n",
    "feature_size = X_N.shape[1] #特徴量の大きさ\n",
    "neuron_size = 200 #隠れ層のニューロンの数"
   ]
  },
  {
   "cell_type": "code",
   "execution_count": 5,
   "metadata": {},
   "outputs": [
    {
     "data": {
      "text/plain": [
       "<matplotlib.image.AxesImage at 0x24fe04c9ef0>"
      ]
     },
     "execution_count": 5,
     "metadata": {},
     "output_type": "execute_result"
    },
    {
     "data": {
      "image/png": "[encoded data removed]",
      "text/plain": [
       "<Figure size 432x288 with 1 Axes>"
      ]
     },
     "metadata": {
      "needs_background": "light"
     },
     "output_type": "display_data"
    }
   ],
   "source": [
    "# ndarrayをgrayscaleの画像として表示\n",
    "plt.imshow(X[0].reshape(28, 28), cmap = cm.Greys_r)"
   ]
  },
  {
   "cell_type": "code",
   "execution_count": 6,
   "metadata": {},
   "outputs": [],
   "source": [
    "def weight_variable(shape):\n",
    "  initial = tf.truncated_normal(shape, stddev=0.1)\n",
    "  return tf.Variable(initial)\n",
    "\n",
    "def bias_variable(shape):\n",
    "  initial = tf.constant(0.1, shape=shape)\n",
    "  return tf.Variable(initial)"
   ]
  },
  {
   "cell_type": "code",
   "execution_count": 7,
   "metadata": {},
   "outputs": [
    {
     "name": "stdout",
     "output_type": "stream",
     "text": [
      "WARNING:tensorflow:From C:\\Users\\hfuis\\Anaconda3\\lib\\site-packages\\tensorflow\\python\\framework\\op_def_library.py:263: colocate_with (from tensorflow.python.framework.ops) is deprecated and will be removed in a future version.\n",
      "Instructions for updating:\n",
      "Colocations handled automatically by placer.\n",
      "WARNING:tensorflow:From C:\\Users\\hfuis\\Anaconda3\\lib\\site-packages\\tensorflow\\python\\ops\\math_ops.py:3066: to_int32 (from tensorflow.python.ops.math_ops) is deprecated and will be removed in a future version.\n",
      "Instructions for updating:\n",
      "Use tf.cast instead.\n"
     ]
    }
   ],
   "source": [
    "#ニューラルネットワーク下準備(3層)\n",
    "x = tf.placeholder(tf.float32, shape = [None, feature_size]) #入力データ\n",
    "t = tf.placeholder(tf.float32, shape = [None, C]) #正解の出力(教師)\n",
    "\n",
    "#入力層-隠れ層\n",
    "#入力は2次元(重みWは特徴量×ニューロン数)、bはバイアス(ニューロン数×1)。\n",
    "#truncated_normal:切断正規分布(defaultだとmean=0,std=1)\n",
    "W = weight_variable([feature_size, neuron_size])\n",
    "b = bias_variable([neuron_size])\n",
    "h = tf.nn.relu(tf.matmul(x, W) + b)            #モデルの出力\n",
    "\n",
    "#隠れ層-出力層\n",
    "#入力は2次元(重みVはニューロン数×1)、bはバイアス(scalar)。\n",
    "#truncated_normal:切断正規分布(defaultだとmean=0,std=1)\n",
    "V = weight_variable([neuron_size, C])\n",
    "c = bias_variable([C])\n",
    "y = tf.nn.softmax(tf.matmul(h, V) + c)            #モデルの出力\n",
    "\n",
    "#交差エントロピー誤差関数(目的関数)\n",
    "#最小化させることで予想を行う。\n",
    "cross_entropy = tf.reduce_mean(-tf.reduce_sum(t*tf.log(y), reduction_indices = [1]))\n",
    "\n",
    "#目的関数の偏微分と勾配降下法\n",
    "#最小化させることで予想を行う。\n",
    "train_step = tf.train.GradientDescentOptimizer(0.1).minimize(cross_entropy) \n",
    "#0.1は学習率\n",
    "\n",
    "#modelの予測yと教師tが一致しているか(bool値)\n",
    "#argmax:一番高い確率を返す。\n",
    "correct_prediction = tf.equal(tf.argmax(y, axis = 1), tf.argmax(t, axis = 1))\n"
   ]
  },
  {
   "cell_type": "code",
   "execution_count": 8,
   "metadata": {},
   "outputs": [
    {
     "name": "stdout",
     "output_type": "stream",
     "text": [
      "epoch: 0\n",
      "epoch: 1000\n",
      "epoch: 2000\n",
      "epoch: 3000\n",
      "epoch: 4000\n",
      "epoch: 5000\n",
      "epoch: 6000\n",
      "epoch: 7000\n",
      "epoch: 8000\n",
      "epoch: 9000\n",
      "Wall time: 5min 48s\n"
     ]
    }
   ],
   "source": [
    "%%time\n",
    "#モデルの学習\n",
    "#データの学習実行(勾配降下法)\n",
    "\n",
    "#変数(tf.Variable)の初期化\n",
    "init = tf.global_variables_initializer()\n",
    "#セッション(計算グラフ(学習)の実行環境)\n",
    "sess = tf.Session()\n",
    "#変数初期化の実行\n",
    "sess.run(init)\n",
    "\n",
    "epochs = 10000 #エポック数\n",
    "for epoch in range(epochs): #gradで足し合わせする回数\n",
    "    sess.run(train_step, feed_dict = {\n",
    "        x: X_train,\n",
    "        t: Y_train\n",
    "    })\n",
    "    if epoch % 1000 == 0:\n",
    "        print(\"epoch:\", epoch)"
   ]
  },
  {
   "cell_type": "code",
   "execution_count": 9,
   "metadata": {},
   "outputs": [
    {
     "name": "stdout",
     "output_type": "stream",
     "text": [
      "accuracy:  0.9216666666666666\n"
     ]
    }
   ],
   "source": [
    "#モデルの評価\n",
    "\n",
    "accuracy = correct_prediction.eval(session = sess, feed_dict = {\n",
    "    x: X_test,\n",
    "    t: Y_test\n",
    "})\n",
    "\n",
    "print(\"accuracy: \", accuracy.mean())"
   ]
  },
  {
   "cell_type": "code",
   "execution_count": 11,
   "metadata": {},
   "outputs": [
    {
     "name": "stdout",
     "output_type": "stream",
     "text": [
      "output probability:\n",
      "[[5.65199207e-06 9.86680210e-01 1.21340927e-04 1.96818612e-03\n",
      "  3.42221931e-03 4.90167039e-03 9.17769503e-04 3.06879694e-04\n",
      "  1.67464290e-03 1.46035757e-06]\n",
      " [2.64854183e-09 5.51982460e-09 6.55345378e-09 6.43303522e-10\n",
      "  1.40650198e-04 4.42366144e-09 1.05782313e-07 4.43013596e-06\n",
      "  1.74229845e-05 9.99837399e-01]\n",
      " [9.96659756e-01 2.43172565e-11 5.16887929e-04 1.95762119e-03\n",
      "  1.21669038e-11 8.65069800e-04 3.30757715e-08 5.72219335e-07\n",
      "  1.55907776e-09 7.02130853e-11]\n",
      " [1.54706598e-07 2.35599927e-07 1.67531005e-04 1.24412304e-06\n",
      "  9.54105559e-08 5.73819676e-08 9.64722455e-01 1.73949601e-07\n",
      "  3.51066850e-02 1.41738474e-06]\n",
      " [3.16106309e-07 9.95676458e-01 6.19084085e-06 1.35658138e-05\n",
      "  3.60025291e-12 5.55042874e-08 6.96090467e-07 3.35221122e-11\n",
      "  4.30279877e-03 1.00145048e-09]\n",
      " [6.79785543e-08 1.28562952e-10 5.03965930e-06 1.28282746e-10\n",
      "  5.38861400e-08 2.11656044e-08 9.99994755e-01 2.46710963e-09\n",
      "  1.10525221e-07 1.88641014e-09]\n",
      " [4.17360058e-09 2.01101614e-13 4.18813539e-10 3.54802893e-07\n",
      "  4.76355053e-04 1.56485623e-06 8.44138214e-12 3.33482487e-04\n",
      "  2.31079952e-07 9.99188006e-01]\n",
      " [5.24274846e-10 2.75844538e-12 2.43298803e-02 9.75206256e-01\n",
      "  3.91090480e-13 1.45762669e-07 6.60052416e-13 2.96118408e-10\n",
      "  4.63708217e-04 1.79468362e-09]\n",
      " [9.80590999e-01 6.56020073e-12 2.31104181e-03 8.03179138e-13\n",
      "  1.28697737e-08 4.14142152e-03 8.68476200e-05 1.59026726e-14\n",
      "  1.28696766e-02 1.03244376e-16]\n",
      " [1.01951825e-09 3.65654208e-12 2.62808371e-08 1.00000000e+00\n",
      "  1.21657476e-11 4.89784746e-09 2.74804553e-17 1.01276869e-11\n",
      "  2.24266010e-08 1.00440137e-13]\n",
      " [1.23826325e-07 3.73922004e-11 9.75214183e-01 2.26567481e-02\n",
      "  5.03479767e-12 3.59463237e-09 7.98684896e-10 2.12893332e-03\n",
      "  2.03685531e-08 2.34558548e-13]\n",
      " [1.14314148e-10 3.27135485e-10 1.27701905e-10 9.52891249e-04\n",
      "  1.90255921e-02 4.10811102e-04 5.18668397e-09 9.32537091e-07\n",
      "  1.41736446e-03 9.78192389e-01]\n",
      " [1.11245547e-10 6.25436147e-10 4.40160075e-10 6.27010312e-14\n",
      "  9.99955893e-01 2.18880380e-08 4.11078254e-05 6.32820951e-09\n",
      "  9.69528628e-07 2.03515856e-06]\n",
      " [4.06292344e-07 1.74675789e-02 9.75196242e-01 2.95678024e-06\n",
      "  1.97132863e-07 2.64906362e-06 7.30763050e-03 8.92628749e-11\n",
      "  2.22909239e-05 5.37060292e-11]\n",
      " [8.36818117e-07 5.82574015e-15 5.10620463e-14 8.53552338e-05\n",
      "  2.74771254e-13 9.99892116e-01 2.96999787e-07 1.72028933e-08\n",
      "  2.14511128e-05 2.13765481e-11]]\n"
     ]
    }
   ],
   "source": [
    "#入力（X)を食わせた時の出力\n",
    "prob = y.eval(session = sess, feed_dict = {\n",
    "    x: X_test\n",
    "})\n",
    "\n",
    "print(\"output probability:\")\n",
    "print(prob[0:15])"
   ]
  },
  {
   "cell_type": "code",
   "execution_count": null,
   "metadata": {},
   "outputs": [],
   "source": []
  }
 ],
 "metadata": {
  "kernelspec": {
   "display_name": "Python 3",
   "language": "python",
   "name": "python3"
  },
  "language_info": {
   "codemirror_mode": {
    "name": "ipython",
    "version": 3
   },
   "file_extension": ".py",
   "mimetype": "text/x-python",
   "name": "python",
   "nbconvert_exporter": "python",
   "pygments_lexer": "ipython3",
   "version": "3.7.1"
  }
 },
 "nbformat": 4,
 "nbformat_minor": 2
}
